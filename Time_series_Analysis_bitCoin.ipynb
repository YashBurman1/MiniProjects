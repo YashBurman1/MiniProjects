{
  "nbformat": 4,
  "nbformat_minor": 0,
  "metadata": {
    "colab": {
      "provenance": [],
      "authorship_tag": "ABX9TyMlhTB22/Ep1bwU4veod3kx",
      "include_colab_link": true
    },
    "kernelspec": {
      "name": "python3",
      "display_name": "Python 3"
    },
    "language_info": {
      "name": "python"
    }
  },
  "cells": [
    {
      "cell_type": "markdown",
      "metadata": {
        "id": "view-in-github",
        "colab_type": "text"
      },
      "source": [
        "<a href=\"https://colab.research.google.com/github/YashBurman1/MiniProjects/blob/main/Time_series_Analysis_bitCoin.ipynb\" target=\"_parent\"><img src=\"https://colab.research.google.com/assets/colab-badge.svg\" alt=\"Open In Colab\"/></a>"
      ]
    },
    {
      "cell_type": "code",
      "execution_count": 1,
      "metadata": {
        "id": "jOEXfLAiPu4N"
      },
      "outputs": [],
      "source": [
        "import numpy as np\n",
        "import matplotlib.pyplot as plt \n",
        "import pandas as pd\n",
        "import seaborn as sns \n",
        "import numpy as np\n",
        "plt.style.use(\"dark_background\")"
      ]
    },
    {
      "cell_type": "code",
      "source": [
        "pd.options.mode.use_inf_as_na = True"
      ],
      "metadata": {
        "id": "80d0J5ux6-NQ"
      },
      "execution_count": 2,
      "outputs": []
    },
    {
      "cell_type": "code",
      "source": [
        "%pip install pmdarima"
      ],
      "metadata": {
        "colab": {
          "base_uri": "https://localhost:8080/"
        },
        "id": "QXigOKP8bjHm",
        "outputId": "f15522ec-f43d-4460-f611-076f5e005a14"
      },
      "execution_count": 3,
      "outputs": [
        {
          "output_type": "stream",
          "name": "stdout",
          "text": [
            "Looking in indexes: https://pypi.org/simple, https://us-python.pkg.dev/colab-wheels/public/simple/\n",
            "Collecting pmdarima\n",
            "  Downloading pmdarima-2.0.3-cp310-cp310-manylinux_2_17_x86_64.manylinux2014_x86_64.manylinux_2_28_x86_64.whl (1.8 MB)\n",
            "\u001b[2K     \u001b[90m━━━━━━━━━━━━━━━━━━━━━━━━━━━━━━━━━━━━━━━━\u001b[0m \u001b[32m1.8/1.8 MB\u001b[0m \u001b[31m25.0 MB/s\u001b[0m eta \u001b[36m0:00:00\u001b[0m\n",
            "\u001b[?25hRequirement already satisfied: joblib>=0.11 in /usr/local/lib/python3.10/dist-packages (from pmdarima) (1.2.0)\n",
            "Requirement already satisfied: Cython!=0.29.18,!=0.29.31,>=0.29 in /usr/local/lib/python3.10/dist-packages (from pmdarima) (0.29.34)\n",
            "Requirement already satisfied: numpy>=1.21.2 in /usr/local/lib/python3.10/dist-packages (from pmdarima) (1.22.4)\n",
            "Requirement already satisfied: pandas>=0.19 in /usr/local/lib/python3.10/dist-packages (from pmdarima) (1.5.3)\n",
            "Requirement already satisfied: scikit-learn>=0.22 in /usr/local/lib/python3.10/dist-packages (from pmdarima) (1.2.2)\n",
            "Requirement already satisfied: scipy>=1.3.2 in /usr/local/lib/python3.10/dist-packages (from pmdarima) (1.10.1)\n",
            "Requirement already satisfied: statsmodels>=0.13.2 in /usr/local/lib/python3.10/dist-packages (from pmdarima) (0.13.5)\n",
            "Requirement already satisfied: urllib3 in /usr/local/lib/python3.10/dist-packages (from pmdarima) (1.26.15)\n",
            "Requirement already satisfied: setuptools!=50.0.0,>=38.6.0 in /usr/local/lib/python3.10/dist-packages (from pmdarima) (67.7.2)\n",
            "Requirement already satisfied: python-dateutil>=2.8.1 in /usr/local/lib/python3.10/dist-packages (from pandas>=0.19->pmdarima) (2.8.2)\n",
            "Requirement already satisfied: pytz>=2020.1 in /usr/local/lib/python3.10/dist-packages (from pandas>=0.19->pmdarima) (2022.7.1)\n",
            "Requirement already satisfied: threadpoolctl>=2.0.0 in /usr/local/lib/python3.10/dist-packages (from scikit-learn>=0.22->pmdarima) (3.1.0)\n",
            "Requirement already satisfied: patsy>=0.5.2 in /usr/local/lib/python3.10/dist-packages (from statsmodels>=0.13.2->pmdarima) (0.5.3)\n",
            "Requirement already satisfied: packaging>=21.3 in /usr/local/lib/python3.10/dist-packages (from statsmodels>=0.13.2->pmdarima) (23.1)\n",
            "Requirement already satisfied: six in /usr/local/lib/python3.10/dist-packages (from patsy>=0.5.2->statsmodels>=0.13.2->pmdarima) (1.16.0)\n",
            "Installing collected packages: pmdarima\n",
            "Successfully installed pmdarima-2.0.3\n"
          ]
        }
      ]
    },
    {
      "cell_type": "code",
      "source": [
        "%pip install opendatasets"
      ],
      "metadata": {
        "colab": {
          "base_uri": "https://localhost:8080/"
        },
        "id": "SmuYML7jd3wd",
        "outputId": "9f6a84f0-a8f4-4b2e-f9a5-a934680a697b"
      },
      "execution_count": 4,
      "outputs": [
        {
          "output_type": "stream",
          "name": "stdout",
          "text": [
            "Looking in indexes: https://pypi.org/simple, https://us-python.pkg.dev/colab-wheels/public/simple/\n",
            "Collecting opendatasets\n",
            "  Downloading opendatasets-0.1.22-py3-none-any.whl (15 kB)\n",
            "Requirement already satisfied: tqdm in /usr/local/lib/python3.10/dist-packages (from opendatasets) (4.65.0)\n",
            "Requirement already satisfied: kaggle in /usr/local/lib/python3.10/dist-packages (from opendatasets) (1.5.13)\n",
            "Requirement already satisfied: click in /usr/local/lib/python3.10/dist-packages (from opendatasets) (8.1.3)\n",
            "Requirement already satisfied: six>=1.10 in /usr/local/lib/python3.10/dist-packages (from kaggle->opendatasets) (1.16.0)\n",
            "Requirement already satisfied: certifi in /usr/local/lib/python3.10/dist-packages (from kaggle->opendatasets) (2022.12.7)\n",
            "Requirement already satisfied: python-dateutil in /usr/local/lib/python3.10/dist-packages (from kaggle->opendatasets) (2.8.2)\n",
            "Requirement already satisfied: requests in /usr/local/lib/python3.10/dist-packages (from kaggle->opendatasets) (2.27.1)\n",
            "Requirement already satisfied: python-slugify in /usr/local/lib/python3.10/dist-packages (from kaggle->opendatasets) (8.0.1)\n",
            "Requirement already satisfied: urllib3 in /usr/local/lib/python3.10/dist-packages (from kaggle->opendatasets) (1.26.15)\n",
            "Requirement already satisfied: text-unidecode>=1.3 in /usr/local/lib/python3.10/dist-packages (from python-slugify->kaggle->opendatasets) (1.3)\n",
            "Requirement already satisfied: charset-normalizer~=2.0.0 in /usr/local/lib/python3.10/dist-packages (from requests->kaggle->opendatasets) (2.0.12)\n",
            "Requirement already satisfied: idna<4,>=2.5 in /usr/local/lib/python3.10/dist-packages (from requests->kaggle->opendatasets) (3.4)\n",
            "Installing collected packages: opendatasets\n",
            "Successfully installed opendatasets-0.1.22\n"
          ]
        }
      ]
    },
    {
      "cell_type": "code",
      "source": [
        "%pip install statsmodels "
      ],
      "metadata": {
        "colab": {
          "base_uri": "https://localhost:8080/"
        },
        "id": "TJMM5mnrXdXE",
        "outputId": "919764d7-d5fb-4729-eae2-1785e315017c"
      },
      "execution_count": 5,
      "outputs": [
        {
          "output_type": "stream",
          "name": "stdout",
          "text": [
            "Looking in indexes: https://pypi.org/simple, https://us-python.pkg.dev/colab-wheels/public/simple/\n",
            "Requirement already satisfied: statsmodels in /usr/local/lib/python3.10/dist-packages (0.13.5)\n",
            "Requirement already satisfied: pandas>=0.25 in /usr/local/lib/python3.10/dist-packages (from statsmodels) (1.5.3)\n",
            "Requirement already satisfied: patsy>=0.5.2 in /usr/local/lib/python3.10/dist-packages (from statsmodels) (0.5.3)\n",
            "Requirement already satisfied: packaging>=21.3 in /usr/local/lib/python3.10/dist-packages (from statsmodels) (23.1)\n",
            "Requirement already satisfied: scipy>=1.3 in /usr/local/lib/python3.10/dist-packages (from statsmodels) (1.10.1)\n",
            "Requirement already satisfied: numpy>=1.17 in /usr/local/lib/python3.10/dist-packages (from statsmodels) (1.22.4)\n",
            "Requirement already satisfied: python-dateutil>=2.8.1 in /usr/local/lib/python3.10/dist-packages (from pandas>=0.25->statsmodels) (2.8.2)\n",
            "Requirement already satisfied: pytz>=2020.1 in /usr/local/lib/python3.10/dist-packages (from pandas>=0.25->statsmodels) (2022.7.1)\n",
            "Requirement already satisfied: six in /usr/local/lib/python3.10/dist-packages (from patsy>=0.5.2->statsmodels) (1.16.0)\n"
          ]
        }
      ]
    },
    {
      "cell_type": "markdown",
      "source": [
        "## **IMPORTING THE DATASET**"
      ],
      "metadata": {
        "id": "jchEbvzwZjBQ"
      }
    },
    {
      "cell_type": "code",
      "source": [
        "import opendatasets as od"
      ],
      "metadata": {
        "id": "guT_qMzaaysL"
      },
      "execution_count": 6,
      "outputs": []
    },
    {
      "cell_type": "code",
      "source": [
        "od.download(\"https://www.kaggle.com/datasets/nisargchodavadiya/bitcoin-time-series-with-different-time-intervals\")"
      ],
      "metadata": {
        "colab": {
          "base_uri": "https://localhost:8080/"
        },
        "id": "wQFMMZWqfdGf",
        "outputId": "81327da9-8a74-4ea8-854e-c32739ad5998"
      },
      "execution_count": 7,
      "outputs": [
        {
          "output_type": "stream",
          "name": "stdout",
          "text": [
            "Please provide your Kaggle credentials to download this dataset. Learn more: http://bit.ly/kaggle-creds\n",
            "Your Kaggle username: yashburman1\n",
            "Your Kaggle Key: ··········\n",
            "Downloading bitcoin-time-series-with-different-time-intervals.zip to ./bitcoin-time-series-with-different-time-intervals\n"
          ]
        },
        {
          "output_type": "stream",
          "name": "stderr",
          "text": [
            "100%|██████████| 234k/234k [00:00<00:00, 48.5MB/s]"
          ]
        },
        {
          "output_type": "stream",
          "name": "stdout",
          "text": [
            "\n"
          ]
        },
        {
          "output_type": "stream",
          "name": "stderr",
          "text": [
            "\n"
          ]
        }
      ]
    },
    {
      "cell_type": "code",
      "source": [
        "file = ('/content/bitcoin-time-series-with-different-time-intervals/BTC-USD-1-DAY.csv')\n",
        "df =  pd.read_csv(file)"
      ],
      "metadata": {
        "id": "530eC1sLge5u"
      },
      "execution_count": 9,
      "outputs": []
    },
    {
      "cell_type": "markdown",
      "source": [
        "## **DATA PREPROCESSING**"
      ],
      "metadata": {
        "id": "lPjeQnM6ioFv"
      }
    },
    {
      "cell_type": "code",
      "source": [
        "df.dtypes"
      ],
      "metadata": {
        "colab": {
          "base_uri": "https://localhost:8080/"
        },
        "id": "1rqqWCrWhV3v",
        "outputId": "114c5c88-d108-4825-e7d1-0be8e35ee17f"
      },
      "execution_count": null,
      "outputs": [
        {
          "output_type": "execute_result",
          "data": {
            "text/plain": [
              "Date          object\n",
              "Open         float64\n",
              "High         float64\n",
              "Low          float64\n",
              "Close        float64\n",
              "Adj Close    float64\n",
              "Volume       float64\n",
              "dtype: object"
            ]
          },
          "metadata": {},
          "execution_count": 8
        }
      ]
    },
    {
      "cell_type": "code",
      "source": [
        "df['Date'] = pd.to_datetime(df['Date'],utc =True)\n",
        "df.dtypes "
      ],
      "metadata": {
        "colab": {
          "base_uri": "https://localhost:8080/"
        },
        "id": "2lwZzdzWhfqa",
        "outputId": "ef6f5c6f-5d6c-473f-b2e1-1c17f3365aee"
      },
      "execution_count": null,
      "outputs": [
        {
          "output_type": "execute_result",
          "data": {
            "text/plain": [
              "Date         datetime64[ns, UTC]\n",
              "Open                     float64\n",
              "High                     float64\n",
              "Low                      float64\n",
              "Close                    float64\n",
              "Adj Close                float64\n",
              "Volume                   float64\n",
              "dtype: object"
            ]
          },
          "metadata": {},
          "execution_count": 9
        }
      ]
    },
    {
      "cell_type": "code",
      "source": [
        "df.set_index(\"Date\",inplace = True)\n",
        "df"
      ],
      "metadata": {
        "id": "q5PAuRrEiIf3",
        "colab": {
          "base_uri": "https://localhost:8080/",
          "height": 455
        },
        "outputId": "13d8e308-bb73-4fb4-bdc1-b6a814986b22"
      },
      "execution_count": null,
      "outputs": [
        {
          "output_type": "execute_result",
          "data": {
            "text/plain": [
              "                                   Open          High           Low  \\\n",
              "Date                                                                  \n",
              "2020-01-01 00:00:00+00:00   7194.892090   7254.330566   7174.944336   \n",
              "2020-01-02 00:00:00+00:00   7202.551270   7212.155273   6935.270020   \n",
              "2020-01-03 00:00:00+00:00   6984.428711   7413.715332   6914.996094   \n",
              "2020-01-04 00:00:00+00:00   7345.375488   7427.385742   7309.514160   \n",
              "2020-01-05 00:00:00+00:00   7410.451660   7544.497070   7400.535645   \n",
              "...                                 ...           ...           ...   \n",
              "2021-10-23 00:00:00+00:00  60694.628906  61743.878906  59826.523438   \n",
              "2021-10-24 00:00:00+00:00  61368.343750  61505.804688  59643.343750   \n",
              "2021-10-25 00:00:00+00:00  60893.925781  63729.324219  60691.800781   \n",
              "2021-10-26 00:00:00+00:00  63032.761719  63229.027344  59991.160156   \n",
              "2021-10-27 00:00:00+00:00  60260.234375  61435.183594  58377.277344   \n",
              "\n",
              "                                  Close     Adj Close        Volume  \n",
              "Date                                                                 \n",
              "2020-01-01 00:00:00+00:00   7200.174316   7200.174316  1.856566e+10  \n",
              "2020-01-02 00:00:00+00:00   6985.470215   6985.470215  2.080208e+10  \n",
              "2020-01-03 00:00:00+00:00   7344.884277   7344.884277  2.811148e+10  \n",
              "2020-01-04 00:00:00+00:00   7410.656738   7410.656738  1.844427e+10  \n",
              "2020-01-05 00:00:00+00:00   7411.317383   7411.317383  1.972507e+10  \n",
              "...                                 ...           ...           ...  \n",
              "2021-10-23 00:00:00+00:00  61393.617188  61393.617188  2.688255e+10  \n",
              "2021-10-24 00:00:00+00:00  60930.835938  60930.835938  2.731618e+10  \n",
              "2021-10-25 00:00:00+00:00  63039.824219  63039.824219  3.106491e+10  \n",
              "2021-10-26 00:00:00+00:00  60363.792969  60363.792969  3.487897e+10  \n",
              "2021-10-27 00:00:00+00:00  59016.667969  59016.667969  4.443826e+10  \n",
              "\n",
              "[666 rows x 6 columns]"
            ],
            "text/html": [
              "\n",
              "  <div id=\"df-b8028a5b-a4ef-400e-bbc7-403f0d4556c5\">\n",
              "    <div class=\"colab-df-container\">\n",
              "      <div>\n",
              "<style scoped>\n",
              "    .dataframe tbody tr th:only-of-type {\n",
              "        vertical-align: middle;\n",
              "    }\n",
              "\n",
              "    .dataframe tbody tr th {\n",
              "        vertical-align: top;\n",
              "    }\n",
              "\n",
              "    .dataframe thead th {\n",
              "        text-align: right;\n",
              "    }\n",
              "</style>\n",
              "<table border=\"1\" class=\"dataframe\">\n",
              "  <thead>\n",
              "    <tr style=\"text-align: right;\">\n",
              "      <th></th>\n",
              "      <th>Open</th>\n",
              "      <th>High</th>\n",
              "      <th>Low</th>\n",
              "      <th>Close</th>\n",
              "      <th>Adj Close</th>\n",
              "      <th>Volume</th>\n",
              "    </tr>\n",
              "    <tr>\n",
              "      <th>Date</th>\n",
              "      <th></th>\n",
              "      <th></th>\n",
              "      <th></th>\n",
              "      <th></th>\n",
              "      <th></th>\n",
              "      <th></th>\n",
              "    </tr>\n",
              "  </thead>\n",
              "  <tbody>\n",
              "    <tr>\n",
              "      <th>2020-01-01 00:00:00+00:00</th>\n",
              "      <td>7194.892090</td>\n",
              "      <td>7254.330566</td>\n",
              "      <td>7174.944336</td>\n",
              "      <td>7200.174316</td>\n",
              "      <td>7200.174316</td>\n",
              "      <td>1.856566e+10</td>\n",
              "    </tr>\n",
              "    <tr>\n",
              "      <th>2020-01-02 00:00:00+00:00</th>\n",
              "      <td>7202.551270</td>\n",
              "      <td>7212.155273</td>\n",
              "      <td>6935.270020</td>\n",
              "      <td>6985.470215</td>\n",
              "      <td>6985.470215</td>\n",
              "      <td>2.080208e+10</td>\n",
              "    </tr>\n",
              "    <tr>\n",
              "      <th>2020-01-03 00:00:00+00:00</th>\n",
              "      <td>6984.428711</td>\n",
              "      <td>7413.715332</td>\n",
              "      <td>6914.996094</td>\n",
              "      <td>7344.884277</td>\n",
              "      <td>7344.884277</td>\n",
              "      <td>2.811148e+10</td>\n",
              "    </tr>\n",
              "    <tr>\n",
              "      <th>2020-01-04 00:00:00+00:00</th>\n",
              "      <td>7345.375488</td>\n",
              "      <td>7427.385742</td>\n",
              "      <td>7309.514160</td>\n",
              "      <td>7410.656738</td>\n",
              "      <td>7410.656738</td>\n",
              "      <td>1.844427e+10</td>\n",
              "    </tr>\n",
              "    <tr>\n",
              "      <th>2020-01-05 00:00:00+00:00</th>\n",
              "      <td>7410.451660</td>\n",
              "      <td>7544.497070</td>\n",
              "      <td>7400.535645</td>\n",
              "      <td>7411.317383</td>\n",
              "      <td>7411.317383</td>\n",
              "      <td>1.972507e+10</td>\n",
              "    </tr>\n",
              "    <tr>\n",
              "      <th>...</th>\n",
              "      <td>...</td>\n",
              "      <td>...</td>\n",
              "      <td>...</td>\n",
              "      <td>...</td>\n",
              "      <td>...</td>\n",
              "      <td>...</td>\n",
              "    </tr>\n",
              "    <tr>\n",
              "      <th>2021-10-23 00:00:00+00:00</th>\n",
              "      <td>60694.628906</td>\n",
              "      <td>61743.878906</td>\n",
              "      <td>59826.523438</td>\n",
              "      <td>61393.617188</td>\n",
              "      <td>61393.617188</td>\n",
              "      <td>2.688255e+10</td>\n",
              "    </tr>\n",
              "    <tr>\n",
              "      <th>2021-10-24 00:00:00+00:00</th>\n",
              "      <td>61368.343750</td>\n",
              "      <td>61505.804688</td>\n",
              "      <td>59643.343750</td>\n",
              "      <td>60930.835938</td>\n",
              "      <td>60930.835938</td>\n",
              "      <td>2.731618e+10</td>\n",
              "    </tr>\n",
              "    <tr>\n",
              "      <th>2021-10-25 00:00:00+00:00</th>\n",
              "      <td>60893.925781</td>\n",
              "      <td>63729.324219</td>\n",
              "      <td>60691.800781</td>\n",
              "      <td>63039.824219</td>\n",
              "      <td>63039.824219</td>\n",
              "      <td>3.106491e+10</td>\n",
              "    </tr>\n",
              "    <tr>\n",
              "      <th>2021-10-26 00:00:00+00:00</th>\n",
              "      <td>63032.761719</td>\n",
              "      <td>63229.027344</td>\n",
              "      <td>59991.160156</td>\n",
              "      <td>60363.792969</td>\n",
              "      <td>60363.792969</td>\n",
              "      <td>3.487897e+10</td>\n",
              "    </tr>\n",
              "    <tr>\n",
              "      <th>2021-10-27 00:00:00+00:00</th>\n",
              "      <td>60260.234375</td>\n",
              "      <td>61435.183594</td>\n",
              "      <td>58377.277344</td>\n",
              "      <td>59016.667969</td>\n",
              "      <td>59016.667969</td>\n",
              "      <td>4.443826e+10</td>\n",
              "    </tr>\n",
              "  </tbody>\n",
              "</table>\n",
              "<p>666 rows × 6 columns</p>\n",
              "</div>\n",
              "      <button class=\"colab-df-convert\" onclick=\"convertToInteractive('df-b8028a5b-a4ef-400e-bbc7-403f0d4556c5')\"\n",
              "              title=\"Convert this dataframe to an interactive table.\"\n",
              "              style=\"display:none;\">\n",
              "        \n",
              "  <svg xmlns=\"http://www.w3.org/2000/svg\" height=\"24px\"viewBox=\"0 0 24 24\"\n",
              "       width=\"24px\">\n",
              "    <path d=\"M0 0h24v24H0V0z\" fill=\"none\"/>\n",
              "    <path d=\"M18.56 5.44l.94 2.06.94-2.06 2.06-.94-2.06-.94-.94-2.06-.94 2.06-2.06.94zm-11 1L8.5 8.5l.94-2.06 2.06-.94-2.06-.94L8.5 2.5l-.94 2.06-2.06.94zm10 10l.94 2.06.94-2.06 2.06-.94-2.06-.94-.94-2.06-.94 2.06-2.06.94z\"/><path d=\"M17.41 7.96l-1.37-1.37c-.4-.4-.92-.59-1.43-.59-.52 0-1.04.2-1.43.59L10.3 9.45l-7.72 7.72c-.78.78-.78 2.05 0 2.83L4 21.41c.39.39.9.59 1.41.59.51 0 1.02-.2 1.41-.59l7.78-7.78 2.81-2.81c.8-.78.8-2.07 0-2.86zM5.41 20L4 18.59l7.72-7.72 1.47 1.35L5.41 20z\"/>\n",
              "  </svg>\n",
              "      </button>\n",
              "      \n",
              "  <style>\n",
              "    .colab-df-container {\n",
              "      display:flex;\n",
              "      flex-wrap:wrap;\n",
              "      gap: 12px;\n",
              "    }\n",
              "\n",
              "    .colab-df-convert {\n",
              "      background-color: #E8F0FE;\n",
              "      border: none;\n",
              "      border-radius: 50%;\n",
              "      cursor: pointer;\n",
              "      display: none;\n",
              "      fill: #1967D2;\n",
              "      height: 32px;\n",
              "      padding: 0 0 0 0;\n",
              "      width: 32px;\n",
              "    }\n",
              "\n",
              "    .colab-df-convert:hover {\n",
              "      background-color: #E2EBFA;\n",
              "      box-shadow: 0px 1px 2px rgba(60, 64, 67, 0.3), 0px 1px 3px 1px rgba(60, 64, 67, 0.15);\n",
              "      fill: #174EA6;\n",
              "    }\n",
              "\n",
              "    [theme=dark] .colab-df-convert {\n",
              "      background-color: #3B4455;\n",
              "      fill: #D2E3FC;\n",
              "    }\n",
              "\n",
              "    [theme=dark] .colab-df-convert:hover {\n",
              "      background-color: #434B5C;\n",
              "      box-shadow: 0px 1px 3px 1px rgba(0, 0, 0, 0.15);\n",
              "      filter: drop-shadow(0px 1px 2px rgba(0, 0, 0, 0.3));\n",
              "      fill: #FFFFFF;\n",
              "    }\n",
              "  </style>\n",
              "\n",
              "      <script>\n",
              "        const buttonEl =\n",
              "          document.querySelector('#df-b8028a5b-a4ef-400e-bbc7-403f0d4556c5 button.colab-df-convert');\n",
              "        buttonEl.style.display =\n",
              "          google.colab.kernel.accessAllowed ? 'block' : 'none';\n",
              "\n",
              "        async function convertToInteractive(key) {\n",
              "          const element = document.querySelector('#df-b8028a5b-a4ef-400e-bbc7-403f0d4556c5');\n",
              "          const dataTable =\n",
              "            await google.colab.kernel.invokeFunction('convertToInteractive',\n",
              "                                                     [key], {});\n",
              "          if (!dataTable) return;\n",
              "\n",
              "          const docLinkHtml = 'Like what you see? Visit the ' +\n",
              "            '<a target=\"_blank\" href=https://colab.research.google.com/notebooks/data_table.ipynb>data table notebook</a>'\n",
              "            + ' to learn more about interactive tables.';\n",
              "          element.innerHTML = '';\n",
              "          dataTable['output_type'] = 'display_data';\n",
              "          await google.colab.output.renderOutput(dataTable, element);\n",
              "          const docLink = document.createElement('div');\n",
              "          docLink.innerHTML = docLinkHtml;\n",
              "          element.appendChild(docLink);\n",
              "        }\n",
              "      </script>\n",
              "    </div>\n",
              "  </div>\n",
              "  "
            ]
          },
          "metadata": {},
          "execution_count": 10
        }
      ]
    },
    {
      "cell_type": "code",
      "source": [
        "df_ = df[[\"Adj Close\"]]\n",
        "df_.replace([np.inf, -np.inf], np.nan, inplace=True)\n",
        "df_.dropna()\n",
        "df_"
      ],
      "metadata": {
        "colab": {
          "base_uri": "https://localhost:8080/",
          "height": 562
        },
        "id": "1zPt-x8dkuCw",
        "outputId": "d65e43b3-a271-43a0-9a1e-0300d4fcba4b"
      },
      "execution_count": null,
      "outputs": [
        {
          "output_type": "stream",
          "name": "stderr",
          "text": [
            "<ipython-input-11-93f9f690daa3>:2: SettingWithCopyWarning: \n",
            "A value is trying to be set on a copy of a slice from a DataFrame\n",
            "\n",
            "See the caveats in the documentation: https://pandas.pydata.org/pandas-docs/stable/user_guide/indexing.html#returning-a-view-versus-a-copy\n",
            "  df_.replace([np.inf, -np.inf], np.nan, inplace=True)\n"
          ]
        },
        {
          "output_type": "execute_result",
          "data": {
            "text/plain": [
              "                              Adj Close\n",
              "Date                                   \n",
              "2020-01-01 00:00:00+00:00   7200.174316\n",
              "2020-01-02 00:00:00+00:00   6985.470215\n",
              "2020-01-03 00:00:00+00:00   7344.884277\n",
              "2020-01-04 00:00:00+00:00   7410.656738\n",
              "2020-01-05 00:00:00+00:00   7411.317383\n",
              "...                                 ...\n",
              "2021-10-23 00:00:00+00:00  61393.617188\n",
              "2021-10-24 00:00:00+00:00  60930.835938\n",
              "2021-10-25 00:00:00+00:00  63039.824219\n",
              "2021-10-26 00:00:00+00:00  60363.792969\n",
              "2021-10-27 00:00:00+00:00  59016.667969\n",
              "\n",
              "[666 rows x 1 columns]"
            ],
            "text/html": [
              "\n",
              "  <div id=\"df-01b964d8-b236-402e-a211-a7432db5a9f9\">\n",
              "    <div class=\"colab-df-container\">\n",
              "      <div>\n",
              "<style scoped>\n",
              "    .dataframe tbody tr th:only-of-type {\n",
              "        vertical-align: middle;\n",
              "    }\n",
              "\n",
              "    .dataframe tbody tr th {\n",
              "        vertical-align: top;\n",
              "    }\n",
              "\n",
              "    .dataframe thead th {\n",
              "        text-align: right;\n",
              "    }\n",
              "</style>\n",
              "<table border=\"1\" class=\"dataframe\">\n",
              "  <thead>\n",
              "    <tr style=\"text-align: right;\">\n",
              "      <th></th>\n",
              "      <th>Adj Close</th>\n",
              "    </tr>\n",
              "    <tr>\n",
              "      <th>Date</th>\n",
              "      <th></th>\n",
              "    </tr>\n",
              "  </thead>\n",
              "  <tbody>\n",
              "    <tr>\n",
              "      <th>2020-01-01 00:00:00+00:00</th>\n",
              "      <td>7200.174316</td>\n",
              "    </tr>\n",
              "    <tr>\n",
              "      <th>2020-01-02 00:00:00+00:00</th>\n",
              "      <td>6985.470215</td>\n",
              "    </tr>\n",
              "    <tr>\n",
              "      <th>2020-01-03 00:00:00+00:00</th>\n",
              "      <td>7344.884277</td>\n",
              "    </tr>\n",
              "    <tr>\n",
              "      <th>2020-01-04 00:00:00+00:00</th>\n",
              "      <td>7410.656738</td>\n",
              "    </tr>\n",
              "    <tr>\n",
              "      <th>2020-01-05 00:00:00+00:00</th>\n",
              "      <td>7411.317383</td>\n",
              "    </tr>\n",
              "    <tr>\n",
              "      <th>...</th>\n",
              "      <td>...</td>\n",
              "    </tr>\n",
              "    <tr>\n",
              "      <th>2021-10-23 00:00:00+00:00</th>\n",
              "      <td>61393.617188</td>\n",
              "    </tr>\n",
              "    <tr>\n",
              "      <th>2021-10-24 00:00:00+00:00</th>\n",
              "      <td>60930.835938</td>\n",
              "    </tr>\n",
              "    <tr>\n",
              "      <th>2021-10-25 00:00:00+00:00</th>\n",
              "      <td>63039.824219</td>\n",
              "    </tr>\n",
              "    <tr>\n",
              "      <th>2021-10-26 00:00:00+00:00</th>\n",
              "      <td>60363.792969</td>\n",
              "    </tr>\n",
              "    <tr>\n",
              "      <th>2021-10-27 00:00:00+00:00</th>\n",
              "      <td>59016.667969</td>\n",
              "    </tr>\n",
              "  </tbody>\n",
              "</table>\n",
              "<p>666 rows × 1 columns</p>\n",
              "</div>\n",
              "      <button class=\"colab-df-convert\" onclick=\"convertToInteractive('df-01b964d8-b236-402e-a211-a7432db5a9f9')\"\n",
              "              title=\"Convert this dataframe to an interactive table.\"\n",
              "              style=\"display:none;\">\n",
              "        \n",
              "  <svg xmlns=\"http://www.w3.org/2000/svg\" height=\"24px\"viewBox=\"0 0 24 24\"\n",
              "       width=\"24px\">\n",
              "    <path d=\"M0 0h24v24H0V0z\" fill=\"none\"/>\n",
              "    <path d=\"M18.56 5.44l.94 2.06.94-2.06 2.06-.94-2.06-.94-.94-2.06-.94 2.06-2.06.94zm-11 1L8.5 8.5l.94-2.06 2.06-.94-2.06-.94L8.5 2.5l-.94 2.06-2.06.94zm10 10l.94 2.06.94-2.06 2.06-.94-2.06-.94-.94-2.06-.94 2.06-2.06.94z\"/><path d=\"M17.41 7.96l-1.37-1.37c-.4-.4-.92-.59-1.43-.59-.52 0-1.04.2-1.43.59L10.3 9.45l-7.72 7.72c-.78.78-.78 2.05 0 2.83L4 21.41c.39.39.9.59 1.41.59.51 0 1.02-.2 1.41-.59l7.78-7.78 2.81-2.81c.8-.78.8-2.07 0-2.86zM5.41 20L4 18.59l7.72-7.72 1.47 1.35L5.41 20z\"/>\n",
              "  </svg>\n",
              "      </button>\n",
              "      \n",
              "  <style>\n",
              "    .colab-df-container {\n",
              "      display:flex;\n",
              "      flex-wrap:wrap;\n",
              "      gap: 12px;\n",
              "    }\n",
              "\n",
              "    .colab-df-convert {\n",
              "      background-color: #E8F0FE;\n",
              "      border: none;\n",
              "      border-radius: 50%;\n",
              "      cursor: pointer;\n",
              "      display: none;\n",
              "      fill: #1967D2;\n",
              "      height: 32px;\n",
              "      padding: 0 0 0 0;\n",
              "      width: 32px;\n",
              "    }\n",
              "\n",
              "    .colab-df-convert:hover {\n",
              "      background-color: #E2EBFA;\n",
              "      box-shadow: 0px 1px 2px rgba(60, 64, 67, 0.3), 0px 1px 3px 1px rgba(60, 64, 67, 0.15);\n",
              "      fill: #174EA6;\n",
              "    }\n",
              "\n",
              "    [theme=dark] .colab-df-convert {\n",
              "      background-color: #3B4455;\n",
              "      fill: #D2E3FC;\n",
              "    }\n",
              "\n",
              "    [theme=dark] .colab-df-convert:hover {\n",
              "      background-color: #434B5C;\n",
              "      box-shadow: 0px 1px 3px 1px rgba(0, 0, 0, 0.15);\n",
              "      filter: drop-shadow(0px 1px 2px rgba(0, 0, 0, 0.3));\n",
              "      fill: #FFFFFF;\n",
              "    }\n",
              "  </style>\n",
              "\n",
              "      <script>\n",
              "        const buttonEl =\n",
              "          document.querySelector('#df-01b964d8-b236-402e-a211-a7432db5a9f9 button.colab-df-convert');\n",
              "        buttonEl.style.display =\n",
              "          google.colab.kernel.accessAllowed ? 'block' : 'none';\n",
              "\n",
              "        async function convertToInteractive(key) {\n",
              "          const element = document.querySelector('#df-01b964d8-b236-402e-a211-a7432db5a9f9');\n",
              "          const dataTable =\n",
              "            await google.colab.kernel.invokeFunction('convertToInteractive',\n",
              "                                                     [key], {});\n",
              "          if (!dataTable) return;\n",
              "\n",
              "          const docLinkHtml = 'Like what you see? Visit the ' +\n",
              "            '<a target=\"_blank\" href=https://colab.research.google.com/notebooks/data_table.ipynb>data table notebook</a>'\n",
              "            + ' to learn more about interactive tables.';\n",
              "          element.innerHTML = '';\n",
              "          dataTable['output_type'] = 'display_data';\n",
              "          await google.colab.output.renderOutput(dataTable, element);\n",
              "          const docLink = document.createElement('div');\n",
              "          docLink.innerHTML = docLinkHtml;\n",
              "          element.appendChild(docLink);\n",
              "        }\n",
              "      </script>\n",
              "    </div>\n",
              "  </div>\n",
              "  "
            ]
          },
          "metadata": {},
          "execution_count": 11
        }
      ]
    },
    {
      "cell_type": "code",
      "source": [
        "df_1 = df_.dropna(axis = 0)"
      ],
      "metadata": {
        "id": "g8Yo8n_QG1AW"
      },
      "execution_count": null,
      "outputs": []
    },
    {
      "cell_type": "markdown",
      "source": [
        " **Testing for Stationarity Using Dickey-Fuller test**"
      ],
      "metadata": {
        "id": "COUb1iWt3cLh"
      }
    },
    {
      "cell_type": "code",
      "source": [
        "from statsmodels.tsa.stattools import adfuller "
      ],
      "metadata": {
        "id": "F1wcj7zfqmTB"
      },
      "execution_count": null,
      "outputs": []
    },
    {
      "cell_type": "code",
      "source": [
        "adf_,pvalue_,used_lag,nobs,critical_values_,ic_best_ = adfuller(df_1)\n",
        "if pvalue_ > 0.05:\n",
        "  print(\"The data is not stationary\")\n",
        "else:\n",
        "  print(\"The data is stationary\")"
      ],
      "metadata": {
        "colab": {
          "base_uri": "https://localhost:8080/"
        },
        "id": "Xs08oyZF392V",
        "outputId": "0cec0b95-30a2-4367-f995-90a8ff2cf765"
      },
      "execution_count": null,
      "outputs": [
        {
          "output_type": "stream",
          "name": "stdout",
          "text": [
            "The data is not stationary\n"
          ]
        }
      ]
    },
    {
      "cell_type": "code",
      "source": [
        "pvalue_"
      ],
      "metadata": {
        "colab": {
          "base_uri": "https://localhost:8080/"
        },
        "id": "W4OR-b-D5VO5",
        "outputId": "da319a05-df58-4393-db99-bef212ffaa2a"
      },
      "execution_count": null,
      "outputs": [
        {
          "output_type": "execute_result",
          "data": {
            "text/plain": [
              "0.9199439681135786"
            ]
          },
          "metadata": {},
          "execution_count": 15
        }
      ]
    },
    {
      "cell_type": "code",
      "source": [
        "df_1[\"year\"] = [d.year for d in df_1.index]\n",
        "df_1[\"Month\"] = [d.strftime(\"%b\") for d in df_1.index]\n"
      ],
      "metadata": {
        "colab": {
          "base_uri": "https://localhost:8080/"
        },
        "id": "-B5xHCP4Lquz",
        "outputId": "46e0a078-e31d-4137-a7bf-a8ebb7f72e16"
      },
      "execution_count": null,
      "outputs": [
        {
          "output_type": "stream",
          "name": "stderr",
          "text": [
            "<ipython-input-16-69e723abde9e>:1: SettingWithCopyWarning: \n",
            "A value is trying to be set on a copy of a slice from a DataFrame.\n",
            "Try using .loc[row_indexer,col_indexer] = value instead\n",
            "\n",
            "See the caveats in the documentation: https://pandas.pydata.org/pandas-docs/stable/user_guide/indexing.html#returning-a-view-versus-a-copy\n",
            "  df_1[\"year\"] = [d.year for d in df_1.index]\n",
            "<ipython-input-16-69e723abde9e>:2: SettingWithCopyWarning: \n",
            "A value is trying to be set on a copy of a slice from a DataFrame.\n",
            "Try using .loc[row_indexer,col_indexer] = value instead\n",
            "\n",
            "See the caveats in the documentation: https://pandas.pydata.org/pandas-docs/stable/user_guide/indexing.html#returning-a-view-versus-a-copy\n",
            "  df_1[\"Month\"] = [d.strftime(\"%b\") for d in df_1.index]\n"
          ]
        }
      ]
    },
    {
      "cell_type": "code",
      "source": [
        "df_1.dtypes"
      ],
      "metadata": {
        "colab": {
          "base_uri": "https://localhost:8080/"
        },
        "id": "OOH60hEvNrNu",
        "outputId": "55b5c164-69a6-4f55-c575-a0d8a9d1c9a9"
      },
      "execution_count": null,
      "outputs": [
        {
          "output_type": "execute_result",
          "data": {
            "text/plain": [
              "Adj Close    float64\n",
              "year           int64\n",
              "Month         object\n",
              "dtype: object"
            ]
          },
          "metadata": {},
          "execution_count": 17
        }
      ]
    },
    {
      "cell_type": "code",
      "source": [
        "sns.boxplot(x = \"year\", y = \"Adj Close\",data = df_1)"
      ],
      "metadata": {
        "colab": {
          "base_uri": "https://localhost:8080/",
          "height": 466
        },
        "id": "3QG7j45dN1gy",
        "outputId": "8edaa9e6-3860-4262-f4c2-b4a75ae34609"
      },
      "execution_count": null,
      "outputs": [
        {
          "output_type": "execute_result",
          "data": {
            "text/plain": [
              "<Axes: xlabel='year', ylabel='Adj Close'>"
            ]
          },
          "metadata": {},
          "execution_count": 18
        },
        {
          "output_type": "display_data",
          "data": {
            "text/plain": [
              "<Figure size 640x480 with 1 Axes>"
            ],
            "image/png": "[encoded data removed]"
          },
          "metadata": {}
        }
      ]
    },
    {
      "cell_type": "code",
      "source": [
        "sns.boxplot(x = \"Month\", y = \"Adj Close\",data = df_1)"
      ],
      "metadata": {
        "colab": {
          "base_uri": "https://localhost:8080/",
          "height": 466
        },
        "id": "vHVr6N0ANGDl",
        "outputId": "c08d621a-b812-40ed-f386-5131fe3cd09c"
      },
      "execution_count": null,
      "outputs": [
        {
          "output_type": "execute_result",
          "data": {
            "text/plain": [
              "<Axes: xlabel='Month', ylabel='Adj Close'>"
            ]
          },
          "metadata": {},
          "execution_count": 19
        },
        {
          "output_type": "display_data",
          "data": {
            "text/plain": [
              "<Figure size 640x480 with 1 Axes>"
            ],
            "image/png": "[encoded data removed]"
          },
          "metadata": {}
        }
      ]
    },
    {
      "cell_type": "markdown",
      "source": [
        "**Decoposing the Time Series into Trend , Seasonality and Residual**"
      ],
      "metadata": {
        "id": "L5qVwPLfOOKf"
      }
    },
    {
      "cell_type": "code",
      "source": [
        "from statsmodels.tsa.seasonal import seasonal_decompose"
      ],
      "metadata": {
        "id": "pgiqph7tNoUe"
      },
      "execution_count": null,
      "outputs": []
    },
    {
      "cell_type": "code",
      "source": [
        "df.index = pd.to_datetime(df.index,utc =True)"
      ],
      "metadata": {
        "id": "QVSD-ifsQOn6"
      },
      "execution_count": null,
      "outputs": []
    },
    {
      "cell_type": "code",
      "source": [
        "decompose = seasonal_decompose(df_1[\"Adj Close\"],model = \"additive\",period = 30)\n",
        "trend = decompose.trend\n",
        "seasonal = decompose.seasonal \n",
        "residual = decompose.resid\n"
      ],
      "metadata": {
        "id": "txGX-k07Oo48"
      },
      "execution_count": null,
      "outputs": []
    },
    {
      "cell_type": "code",
      "source": [
        "plt.figure(figsize = (12,8))\n",
        "plt.subplot(411)\n",
        "plt.plot(df_1[\"Adj Close\"],label = \"original\", color = \"white\")\n",
        "plt.legend(loc = \"upper left\")\n",
        "plt.subplot(412)\n",
        "plt.plot(trend,label = \"Trend\", color = \"white\")\n",
        "plt.legend(loc = \"upper left\")\n",
        "plt.subplot(413)\n",
        "plt.plot(seasonal,label = \"Seasonal Variation\", color = \"white\")\n",
        "plt.legend(loc = \"upper left\")\n",
        "plt.subplot(414)\n",
        "plt.plot(residual,label = \"Residual\", color = \"white\")\n",
        "plt.legend(loc = \"upper left\")\n",
        "plt.show"
      ],
      "metadata": {
        "colab": {
          "base_uri": "https://localhost:8080/",
          "height": 644
        },
        "id": "SlKE8zgCP_nG",
        "outputId": "15cb9e6a-265c-4575-e13b-b184adae3258"
      },
      "execution_count": null,
      "outputs": [
        {
          "output_type": "execute_result",
          "data": {
            "text/plain": [
              "<function matplotlib.pyplot.show(close=None, block=None)>"
            ]
          },
          "metadata": {},
          "execution_count": 23
        },
        {
          "output_type": "display_data",
          "data": {
            "text/plain": [
              "<Figure size 1200x800 with 4 Axes>"
            ],
            "image/png": "[encoded data removed]"
          },
          "metadata": {}
        }
      ]
    },
    {
      "cell_type": "markdown",
      "source": [
        "## **FITTING A TIME SERIES MODEL**"
      ],
      "metadata": {
        "id": "dYQ6GiqQaAA6"
      }
    },
    {
      "cell_type": "code",
      "source": [
        "from pmdarima.arima import auto_arima"
      ],
      "metadata": {
        "id": "jtui8cgGalI-"
      },
      "execution_count": null,
      "outputs": []
    },
    {
      "cell_type": "code",
      "source": [
        "arima_model = auto_arima(df_1[\"Adj Close\"],start_p = 1 , d = 1 , start_q = 1,\n",
        "                                           max_p = 7 ,max_d = 7, max_q = 7, m = 12,\n",
        "                                           start_P = 0, D =1 , start_Q=0,\n",
        "                                           max_P = 7, max_D = 7, max_Q = 14,\n",
        "                                           seasonal = True, trace = True, error_action = \"ignore\", suppress_warnings = True, stepwise = True , n_fits = 50)"
      ],
      "metadata": {
        "colab": {
          "base_uri": "https://localhost:8080/"
        },
        "id": "MY6OVB43hqfb",
        "outputId": "597352ad-2d49-4b36-da2d-c1c27c7ff59f"
      },
      "execution_count": null,
      "outputs": [
        {
          "output_type": "stream",
          "name": "stdout",
          "text": [
            "Performing stepwise search to minimize aic\n",
            " ARIMA(1,1,1)(0,1,0)[12]             : AIC=11701.704, Time=0.26 sec\n",
            " ARIMA(0,1,0)(0,1,0)[12]             : AIC=11702.406, Time=0.10 sec\n",
            " ARIMA(1,1,0)(1,1,0)[12]             : AIC=11447.331, Time=2.23 sec\n",
            " ARIMA(0,1,1)(0,1,1)[12]             : AIC=inf, Time=2.56 sec\n",
            " ARIMA(1,1,0)(0,1,0)[12]             : AIC=11699.713, Time=0.14 sec\n",
            " ARIMA(1,1,0)(2,1,0)[12]             : AIC=11398.817, Time=6.42 sec\n",
            " ARIMA(1,1,0)(3,1,0)[12]             : AIC=11351.368, Time=22.63 sec\n",
            " ARIMA(1,1,0)(4,1,0)[12]             : AIC=11338.725, Time=27.98 sec\n",
            " ARIMA(1,1,0)(5,1,0)[12]             : AIC=11332.990, Time=34.73 sec\n",
            " ARIMA(1,1,0)(6,1,0)[12]             : AIC=11313.650, Time=59.69 sec\n",
            " ARIMA(1,1,0)(7,1,0)[12]             : AIC=11306.325, Time=110.31 sec\n",
            " ARIMA(1,1,0)(7,1,1)[12]             : AIC=inf, Time=172.70 sec\n"
          ]
        }
      ]
    },
    {
      "cell_type": "code",
      "source": [],
      "metadata": {
        "id": "DIQ_uKpjmzNe"
      },
      "execution_count": null,
      "outputs": []
    }
  ]
}